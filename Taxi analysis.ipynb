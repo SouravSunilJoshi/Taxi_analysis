{
 "cells": [
  {
   "cell_type": "code",
   "execution_count": 1,
   "id": "fa1218ee",
   "metadata": {},
   "outputs": [],
   "source": [
    "import numpy as np"
   ]
  },
  {
   "cell_type": "code",
   "execution_count": 2,
   "id": "8af6e55f",
   "metadata": {},
   "outputs": [],
   "source": [
    "data = np.genfromtxt('data.csv',delimiter = ',',skip_header = True)"
   ]
  },
  {
   "cell_type": "markdown",
   "id": "9192ae25",
   "metadata": {},
   "source": [
    "# Calculating Average speed of Taxi"
   ]
  },
  {
   "cell_type": "code",
   "execution_count": 3,
   "id": "c26b1bb6",
   "metadata": {},
   "outputs": [],
   "source": [
    "speed = data[:,7] / (data[:,8]/3600)"
   ]
  },
  {
   "cell_type": "code",
   "execution_count": 4,
   "id": "ce5d6a1b",
   "metadata": {},
   "outputs": [
    {
     "name": "stdout",
     "output_type": "stream",
     "text": [
      "Average speed of Taxi is 32.24258580925573\n"
     ]
    }
   ],
   "source": [
    "average_speed = np.average(speed)\n",
    "print(\"Average speed of Taxi is {}\".format(average_speed))"
   ]
  },
  {
   "cell_type": "markdown",
   "id": "79380904",
   "metadata": {},
   "source": [
    "# Count number of rides taken in month of February"
   ]
  },
  {
   "cell_type": "code",
   "execution_count": 5,
   "id": "b9c7058a",
   "metadata": {},
   "outputs": [],
   "source": [
    "counter = data[data[:,1] == 2 , 1]"
   ]
  },
  {
   "cell_type": "code",
   "execution_count": 6,
   "id": "0727d23b",
   "metadata": {},
   "outputs": [
    {
     "name": "stdout",
     "output_type": "stream",
     "text": [
      "Rides taken in Month of February 13333\n"
     ]
    }
   ],
   "source": [
    "print(\"Rides taken in Month of February {}\".format(counter.shape[0]))"
   ]
  },
  {
   "cell_type": "markdown",
   "id": "1a437dce",
   "metadata": {},
   "source": [
    "# Calcuate the number of rides with a tip greater than $50"
   ]
  },
  {
   "cell_type": "code",
   "execution_count": 7,
   "id": "f91cb05a",
   "metadata": {},
   "outputs": [],
   "source": [
    "tip = data[data[:,12]>50]"
   ]
  },
  {
   "cell_type": "code",
   "execution_count": 8,
   "id": "57c59798",
   "metadata": {},
   "outputs": [
    {
     "data": {
      "text/plain": [
       "16"
      ]
     },
     "execution_count": 8,
     "metadata": {},
     "output_type": "execute_result"
    }
   ],
   "source": [
    "tip.shape[0]"
   ]
  },
  {
   "cell_type": "markdown",
   "id": "2d102de9",
   "metadata": {},
   "source": [
    "# Total amount of fare"
   ]
  },
  {
   "cell_type": "code",
   "execution_count": 9,
   "id": "58a8c06d",
   "metadata": {},
   "outputs": [],
   "source": [
    "total = data[:,-2]"
   ]
  },
  {
   "cell_type": "code",
   "execution_count": 10,
   "id": "c73b78d5",
   "metadata": {},
   "outputs": [
    {
     "name": "stdout",
     "output_type": "stream",
     "text": [
      "The total amount earned is 4385454.29\n"
     ]
    }
   ],
   "source": [
    "print(\"The total amount earned is {}\".format(total.sum()))"
   ]
  },
  {
   "cell_type": "markdown",
   "id": "ab4033cc",
   "metadata": {},
   "source": [
    "# Total Fees recieve"
   ]
  },
  {
   "cell_type": "code",
   "execution_count": 11,
   "id": "5df33211",
   "metadata": {},
   "outputs": [
    {
     "data": {
      "text/plain": [
       "array([0.8, 1.3, 1.3, ..., 0.8, 1.3, 1.3])"
      ]
     },
     "execution_count": 11,
     "metadata": {},
     "output_type": "execute_result"
    }
   ],
   "source": [
    "toll = data[:,10]\n",
    "toll"
   ]
  },
  {
   "cell_type": "code",
   "execution_count": 12,
   "id": "54875516",
   "metadata": {},
   "outputs": [
    {
     "name": "stdout",
     "output_type": "stream",
     "text": [
      "Maximum Fare received is 108293.84000000001\n"
     ]
    }
   ],
   "source": [
    "print(\"Maximum Fare received is {}\".format(toll.sum()))"
   ]
  }
 ],
 "metadata": {
  "kernelspec": {
   "display_name": "Python 3 (ipykernel)",
   "language": "python",
   "name": "python3"
  },
  "language_info": {
   "codemirror_mode": {
    "name": "ipython",
    "version": 3
   },
   "file_extension": ".py",
   "mimetype": "text/x-python",
   "name": "python",
   "nbconvert_exporter": "python",
   "pygments_lexer": "ipython3",
   "version": "3.10.0"
  }
 },
 "nbformat": 4,
 "nbformat_minor": 5
}
